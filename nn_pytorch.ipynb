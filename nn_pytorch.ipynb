{
  "nbformat": 4,
  "nbformat_minor": 0,
  "metadata": {
    "colab": {
      "provenance": []
    },
    "kernelspec": {
      "name": "python3",
      "display_name": "Python 3"
    },
    "language_info": {
      "name": "python"
    }
  },
  "cells": [
    {
      "cell_type": "code",
      "execution_count": 1,
      "metadata": {
        "id": "5RkGRRHiL-Ij"
      },
      "outputs": [],
      "source": [
        "import torch\n",
        "from torch import nn\n",
        "from torch.utils.data import DataLoader, Dataset\n",
        "from torchvision import datasets\n",
        "import os\n",
        "import pandas as pd\n",
        "from torchvision.io import read_image\n",
        "\n",
        "class CustomImageDataset(Dataset):\n",
        "    def __init__(self, annotations_file, img_dir, transform=None, target_transform=None):\n",
        "        self.img_labels = pd.read_csv(annotations_file)\n",
        "        self.img_dir = img_dir\n",
        "        self.transform = transform\n",
        "        self.target_transform = target_transform\n",
        "\n",
        "    def __len__(self):\n",
        "        return len(self.img_labels)\n",
        "\n",
        "    def __getitem__(self, idx):\n",
        "        img_path = os.path.join(self.img_dir, self.img_labels.iloc[idx, 0])\n",
        "        image = read_image(img_path)\n",
        "        label = self.img_labels.iloc[idx, 1]\n",
        "        if self.transform:\n",
        "            image = self.transform(image)\n",
        "        if self.target_transform:\n",
        "            label = self.target_transform(label)\n",
        "        return image, label"
      ]
    },
    {
      "cell_type": "code",
      "source": [
        "from torchvision.transforms import CenterCrop, Resize\n",
        "\n",
        "w_size = 32\n",
        "h_size = 32\n",
        "\n",
        "trans = torch.nn.Sequential(\n",
        "    CenterCrop(2048),\n",
        "    Resize((w_size, h_size), antialias=True),\n",
        ")\n",
        "scripted_transforms = torch.jit.script(trans)\n",
        "\n",
        "training_data = CustomImageDataset(\"drive/MyDrive/SS/labels.csv\",\n",
        "                                   \"drive/MyDrive/SS/DTrain\",\n",
        "                                   transform=scripted_transforms,)\n",
        "test_data = CustomImageDataset(\"drive/MyDrive/SS/labels_testing.csv\",\n",
        "                               \"drive/MyDrive/SS/DTesting\",\n",
        "                               transform=scripted_transforms,)\n",
        "\n",
        "batch_size = 5\n",
        "train_dataloader = DataLoader(training_data,\n",
        "                              batch_size=batch_size,\n",
        "                              shuffle=True)\n",
        "test_dataloader = DataLoader(test_data,\n",
        "                             batch_size=batch_size,\n",
        "                             shuffle=True)\n",
        "\n",
        "for X, y in test_dataloader:\n",
        "    print(f\"Shape of X [N, C, H, W]: {X.shape} {X.dtype}\")\n",
        "    print(f\"Shape of y: {y.shape} {y.dtype}\")\n",
        "    break"
      ],
      "metadata": {
        "colab": {
          "base_uri": "https://localhost:8080/"
        },
        "id": "70gkRtvXME-F",
        "outputId": "bf3016af-7da6-49fe-cf76-83b0ee408b01"
      },
      "execution_count": 2,
      "outputs": [
        {
          "output_type": "stream",
          "name": "stdout",
          "text": [
            "Shape of X [N, C, H, W]: torch.Size([5, 3, 32, 32]) torch.uint8\n",
            "Shape of y: torch.Size([5]) torch.int64\n"
          ]
        }
      ]
    },
    {
      "cell_type": "code",
      "source": [
        "# train_features, train_labels = next(iter(train_dataloader))\n",
        "# print(f\"Feature batch shape: {train_features.size()}\")\n",
        "# print(f\"Labels batch shape: {train_labels.size()}\")\n",
        "# img = train_features[0].squeeze()\n",
        "# label = train_labels[0]\n",
        "\n",
        "# # our img data training is in dimension (rgb, x, y)\n",
        "# # however imshow expect in (x, y, rgb) format,\n",
        "# # so we transpose array first to move rgb into last dimension\n",
        "# import numpy as np\n",
        "# img = np.transpose(img)\n",
        "\n",
        "# import matplotlib.pyplot as plt\n",
        "# plt.imshow(img)\n",
        "# plt.show()\n",
        "# print(f\"Label: {label}\")"
      ],
      "metadata": {
        "id": "Oc56rYXPMIuN"
      },
      "execution_count": null,
      "outputs": []
    },
    {
      "cell_type": "code",
      "source": [
        "# Get cpu, gpu or mps device for training.\n",
        "device = (\n",
        "    \"cuda\"\n",
        "    if torch.cuda.is_available()\n",
        "    else \"mps\"\n",
        "    if torch.backends.mps.is_available()\n",
        "    else \"cpu\"\n",
        ")\n",
        "print(f\"Using {device} device\")\n",
        "\n",
        "# Define model\n",
        "class NeuralNetwork(nn.Module):\n",
        "    def __init__(self):\n",
        "        super().__init__()\n",
        "        self.flatten = nn.Flatten()\n",
        "        self.linear_relu_stack = nn.Sequential(\n",
        "            nn.Linear(3*32*32, 512),\n",
        "            nn.ReLU(),\n",
        "            nn.Linear(512, 512),\n",
        "            nn.ReLU(),\n",
        "            nn.Linear(512, 2)\n",
        "        )\n",
        "\n",
        "    def forward(self, x):\n",
        "        x = self.flatten(x).to(torch.float32)\n",
        "        logits = self.linear_relu_stack(x)\n",
        "        return logits\n",
        "\n",
        "model = NeuralNetwork().to(device)\n",
        "print(model)"
      ],
      "metadata": {
        "colab": {
          "base_uri": "https://localhost:8080/"
        },
        "id": "ykrATVTEMLQZ",
        "outputId": "4dfdc3d4-ec09-48d1-a02c-d10531cae302"
      },
      "execution_count": 13,
      "outputs": [
        {
          "output_type": "stream",
          "name": "stdout",
          "text": [
            "Using cpu device\n",
            "NeuralNetwork(\n",
            "  (flatten): Flatten(start_dim=1, end_dim=-1)\n",
            "  (linear_relu_stack): Sequential(\n",
            "    (0): Linear(in_features=3072, out_features=512, bias=True)\n",
            "    (1): ReLU()\n",
            "    (2): Linear(in_features=512, out_features=512, bias=True)\n",
            "    (3): ReLU()\n",
            "    (4): Linear(in_features=512, out_features=2, bias=True)\n",
            "  )\n",
            ")\n"
          ]
        }
      ]
    },
    {
      "cell_type": "code",
      "source": [
        "loss_fn = nn.CrossEntropyLoss()\n",
        "optimizer = torch.optim.SGD(model.parameters(), lr=1e-3)"
      ],
      "metadata": {
        "id": "2i58IPnxMYqv"
      },
      "execution_count": 4,
      "outputs": []
    },
    {
      "cell_type": "code",
      "source": [
        "def train(dataloader, model, loss_fn, optimizer):\n",
        "    size = len(dataloader.dataset)\n",
        "    model.train()\n",
        "    for batch, (X, y) in enumerate(dataloader):\n",
        "        X, y = X.to(device), y.to(device)\n",
        "\n",
        "        # Compute prediction error\n",
        "        pred = model(X)\n",
        "        loss = loss_fn(pred, y)\n",
        "\n",
        "        # Backpropagation\n",
        "        loss.backward()\n",
        "        optimizer.step()\n",
        "        optimizer.zero_grad()\n",
        "\n",
        "        if batch % 100 == 0:\n",
        "            loss, current = loss.item(), (batch + 1) * len(X)\n",
        "            print(f\"loss: {loss:>7f}  [{current:>5d}/{size:>5d}]\")\n",
        "\n",
        "def test(dataloader, model, loss_fn):\n",
        "    size = len(dataloader.dataset)\n",
        "    num_batches = len(dataloader)\n",
        "    model.eval()\n",
        "    test_loss, correct = 0, 0\n",
        "    with torch.no_grad():\n",
        "        for X, y in dataloader:\n",
        "            X, y = X.to(device), y.to(device)\n",
        "            pred = model(X)\n",
        "            test_loss += loss_fn(pred, y).item()\n",
        "            correct += (pred.argmax(1) == y).type(torch.float).sum().item()\n",
        "    test_loss /= num_batches\n",
        "    correct /= size\n",
        "    print(f\"Test Error: \\n Accuracy: {(100*correct):>0.1f}%, Avg loss: {test_loss:>8f} \\n\")\n"
      ],
      "metadata": {
        "id": "wpqZsuNTMNyX"
      },
      "execution_count": 1,
      "outputs": []
    },
    {
      "cell_type": "code",
      "source": [
        "epochs = 5\n",
        "for t in range(epochs):\n",
        "    print(f\"Epoch {t+1}\\n-------------------------------\")\n",
        "    train(train_dataloader, model, loss_fn, optimizer)\n",
        "    test(test_dataloader, model, loss_fn)\n",
        "print(\"Done!\")"
      ],
      "metadata": {
        "colab": {
          "base_uri": "https://localhost:8080/"
        },
        "id": "l1rj0oaPMhHW",
        "outputId": "13de3770-7e35-4741-bd14-f1c7dbf84c4e"
      },
      "execution_count": 15,
      "outputs": [
        {
          "output_type": "stream",
          "name": "stdout",
          "text": [
            "Epoch 1\n",
            "-------------------------------\n",
            "loss: 3.041800  [    5/   19]\n",
            "Test Error: \n",
            " Accuracy: 52.6%, Avg loss: 3.866992 \n",
            "\n",
            "Epoch 2\n",
            "-------------------------------\n",
            "loss: 3.081937  [    5/   19]\n",
            "Test Error: \n",
            " Accuracy: 52.6%, Avg loss: 3.820379 \n",
            "\n",
            "Epoch 3\n",
            "-------------------------------\n",
            "loss: 1.377918  [    5/   19]\n",
            "Test Error: \n",
            " Accuracy: 52.6%, Avg loss: 3.818410 \n",
            "\n",
            "Epoch 4\n",
            "-------------------------------\n",
            "loss: 0.031993  [    5/   19]\n",
            "Test Error: \n",
            " Accuracy: 52.6%, Avg loss: 3.922919 \n",
            "\n",
            "Epoch 5\n",
            "-------------------------------\n",
            "loss: 6.203315  [    5/   19]\n",
            "Test Error: \n",
            " Accuracy: 52.6%, Avg loss: 4.008193 \n",
            "\n",
            "Done!\n"
          ]
        }
      ]
    }
  ]
}